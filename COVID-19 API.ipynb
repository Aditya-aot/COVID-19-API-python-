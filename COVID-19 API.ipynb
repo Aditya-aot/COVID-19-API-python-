{
 "cells": [
  {
   "cell_type": "markdown",
   "metadata": {},
   "source": [
    "# COVID-19 API"
   ]
  },
  {
   "cell_type": "code",
   "execution_count": 1,
   "metadata": {},
   "outputs": [],
   "source": [
    "import json\n",
    "import requests"
   ]
  },
  {
   "cell_type": "code",
   "execution_count": 57,
   "metadata": {},
   "outputs": [
    {
     "name": "stdout",
     "output_type": "stream",
     "text": [
      "{'get': 'statistics', 'parameters': {'country': 'india'}, 'errors': [], 'results': 1, 'response': [{'continent': 'Asia', 'country': 'India', 'population': 1385160148, 'cases': {'new': '+203', 'active': 446767, 'critical': 8944, 'recovered': 8335109, '1M_pop': '6435', 'total': 8912907}, 'deaths': {'new': None, '1M_pop': '95', 'total': 131031}, 'tests': {'1M_pop': '92033', 'total': 127480186}, 'day': '2020-11-18', 'time': '2020-11-18T06:00:10+00:00'}]}\n"
     ]
    }
   ],
   "source": [
    " url = \"https://covid-193.p.rapidapi.com/statistics\"\n",
    "\n",
    "querystring = {\"country\": \"india\",}\n",
    "\n",
    "headers = {\n",
    "        'x-rapidapi-key': \"fc10ca2471msh1436e5004570dd2p152fdfjsn953b9a54ea03\",\n",
    "        'x-rapidapi-host': \"covid-193.p.rapidapi.com\"\n",
    "}\n",
    "\n",
    "response = requests.request(\"GET\", url, headers=headers, params=querystring)\n",
    "    \n",
    "quotes =response.json()\n",
    "print(quotes)"
   ]
  },
  {
   "cell_type": "code",
   "execution_count": 58,
   "metadata": {},
   "outputs": [
    {
     "name": "stdout",
     "output_type": "stream",
     "text": [
      "\n",
      "------------AREA---------------------\n",
      "continent : Asia\n",
      "country : India\n",
      "population : 1385160148\n",
      "\n",
      "------------CASE-------------------\n",
      "new cases : +203\n",
      "active cases: 446767\n",
      "critical cases: 8944\n",
      "recovered cases: 8335109\n",
      "1M_pop: 6435\n",
      "total cases: 8912907\n",
      "\n",
      "------------DEATHS-------------------\n",
      "new deaths : None\n",
      "1M_pop: 95\n",
      "total deaths: 131031\n",
      "\n",
      "------------TESTS--------------------\n",
      "1M_pop: 92033\n",
      "total: 127480186\n",
      "\n",
      "------------LAST UPDATE---------------\n",
      "days: 2020-11-18\n",
      "time: 2020-11-18T06:00:10+00:00\n"
     ]
    }
   ],
   "source": [
    "# print(quotes['parameters'])\n",
    "# print(quotes['response'])\n",
    "print('')\n",
    "print('------------AREA---------------------')\n",
    "print('continent :',quotes['response'][0]['continent'])\n",
    "print('country :',quotes['response'][0]['country'])\n",
    "print('population :',quotes['response'][0]['population'])\n",
    "print('')\n",
    "print('------------CASE-------------------')\n",
    "print('new cases :',quotes['response'][0]['cases']['new'])\n",
    "print('active cases:',quotes['response'][0]['cases']['active'])\n",
    "print('critical cases:',quotes['response'][0]['cases']['critical'])\n",
    "print('recovered cases:',quotes['response'][0]['cases']['recovered'])\n",
    "print('1M_pop:',quotes['response'][0]['cases']['1M_pop'])\n",
    "print('total cases:',quotes['response'][0]['cases']['total'])\n",
    "print('')\n",
    "print('------------DEATHS-------------------')\n",
    "print('new deaths :',quotes['response'][0]['deaths']['new'])\n",
    "print('1M_pop:',quotes['response'][0]['deaths']['1M_pop'])\n",
    "print('total deaths:',quotes['response'][0]['deaths']['total'])\n",
    "print('')\n",
    "print('------------TESTS--------------------')\n",
    "print('1M_pop:',quotes['response'][0]['tests']['1M_pop'])\n",
    "print('total:',quotes['response'][0]['tests']['total'])\n",
    "print('')\n",
    "print('------------LAST UPDATE---------------')\n",
    "print('days:',quotes['response'][0]['day'])\n",
    "print('time:',quotes['response'][0]['time'])\n"
   ]
  }
 ],
 "metadata": {
  "kernelspec": {
   "display_name": "Python 3",
   "language": "python",
   "name": "python3"
  },
  "language_info": {
   "codemirror_mode": {
    "name": "ipython",
    "version": 3
   },
   "file_extension": ".py",
   "mimetype": "text/x-python",
   "name": "python",
   "nbconvert_exporter": "python",
   "pygments_lexer": "ipython3",
   "version": "3.7.4"
  }
 },
 "nbformat": 4,
 "nbformat_minor": 2
}
